{
 "cells": [
  {
   "cell_type": "markdown",
   "id": "fde7fe74",
   "metadata": {},
   "source": [
    "<b style=\"color:red;\">Print() Metodu ile Metin Formatlama</b>"
   ]
  },
  {
   "cell_type": "code",
   "execution_count": 1,
   "id": "a069733e",
   "metadata": {},
   "outputs": [
    {
     "name": "stdout",
     "output_type": "stream",
     "text": [
      "halilcevdetmusa\n"
     ]
    }
   ],
   "source": [
    "print(\"halil\", \"cevdet\", \"musa\", sep=\"\")"
   ]
  },
  {
   "cell_type": "code",
   "execution_count": 8,
   "id": "a658c1d4",
   "metadata": {},
   "outputs": [
    {
     "name": "stdout",
     "output_type": "stream",
     "text": [
      "halil 4cevdet 4musa\n"
     ]
    }
   ],
   "source": [
    "print(\"halil\", \"cevdet\", \"musa\", sep=\" 4\")"
   ]
  },
  {
   "cell_type": "code",
   "execution_count": 12,
   "id": "ca771127",
   "metadata": {},
   "outputs": [
    {
     "name": "stdout",
     "output_type": "stream",
     "text": [
      "5 adet alım tutarı 15$ olarak hesaplandı\n"
     ]
    }
   ],
   "source": [
    "print(\"{} adet alım tutarı {}$ olarak hesaplandı\".format(5, 15))"
   ]
  },
  {
   "cell_type": "code",
   "execution_count": 14,
   "id": "da5362e2",
   "metadata": {},
   "outputs": [
    {
     "name": "stdout",
     "output_type": "stream",
     "text": [
      "2 kişi 5 adet ürün satın alarak 30$ tutarında ödeme yaptı.\n"
     ]
    }
   ],
   "source": [
    "print(\"{1} kişi {0} adet ürün satın alarak {2}$ tutarında ödeme yaptı.\".format(5, 2, 30))"
   ]
  },
  {
   "cell_type": "code",
   "execution_count": 16,
   "id": "95c8d9ac",
   "metadata": {},
   "outputs": [
    {
     "name": "stdout",
     "output_type": "stream",
     "text": [
      "3.15 sayısı 5.32 sayısı ile çarpılınca 16.751 sayısına ulaşıldı\n"
     ]
    }
   ],
   "source": [
    "print(\"{:.2f} sayısı {:.2f} sayısı ile çarpılınca {:.3f} sayısına ulaşıldı\".format(3.1463, 5.324, 3.1463*5.324))"
   ]
  },
  {
   "cell_type": "code",
   "execution_count": 38,
   "id": "c546f86b",
   "metadata": {},
   "outputs": [],
   "source": []
  },
  {
   "cell_type": "code",
   "execution_count": 41,
   "id": "8f7e97c9",
   "metadata": {
    "scrolled": false
   },
   "outputs": [
    {
     "name": "stdout",
     "output_type": "stream",
     "text": [
      "   ulke\n",
      "0    tr\n",
      "1    tr\n",
      "2    tr\n",
      "3    tr\n",
      "4    tr\n",
      "5    tr\n",
      "6    tr\n",
      "7    tr\n",
      "8    tr\n",
      "9    us\n",
      "10   us\n",
      "11   us\n",
      "12   us\n",
      "13   us\n",
      "14   us\n",
      "15   fr\n",
      "16   fr\n",
      "17   fr\n",
      "18   fr\n",
      "19   fr\n",
      "20   fr\n",
      "21   fr\n",
      "<class 'pandas.core.frame.DataFrame'>\n"
     ]
    }
   ],
   "source": []
  },
  {
   "cell_type": "code",
   "execution_count": null,
   "id": "b0e7a47d",
   "metadata": {},
   "outputs": [],
   "source": []
  }
 ],
 "metadata": {
  "kernelspec": {
   "display_name": "Python 3",
   "language": "python",
   "name": "python3"
  },
  "language_info": {
   "codemirror_mode": {
    "name": "ipython",
    "version": 3
   },
   "file_extension": ".py",
   "mimetype": "text/x-python",
   "name": "python",
   "nbconvert_exporter": "python",
   "pygments_lexer": "ipython3",
   "version": "3.8.8"
  }
 },
 "nbformat": 4,
 "nbformat_minor": 5
}
