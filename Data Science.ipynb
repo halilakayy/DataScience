{
 "cells": [
  {
   "cell_type": "markdown",
   "id": "d280594c",
   "metadata": {},
   "source": [
    "<b>Kütüphanelerin Yüklenmesi</b>"
   ]
  },
  {
   "cell_type": "code",
   "execution_count": 2,
   "id": "57433678",
   "metadata": {},
   "outputs": [],
   "source": [
    "\"\"\"\n",
    "Kütüphaneler\n",
    "\"\"\"\n",
    "#Kütüphanelerin yüklenmesi\n",
    "import pandas as pd\n",
    "import numpy as np\n",
    "import matplotlib.pyplot as plt"
   ]
  },
  {
   "cell_type": "markdown",
   "id": "f9bdd3bc",
   "metadata": {},
   "source": [
    "<b>Verilerin Yüklenmesi</b>"
   ]
  },
  {
   "cell_type": "code",
   "execution_count": 3,
   "id": "c2366295",
   "metadata": {},
   "outputs": [
    {
     "name": "stdout",
     "output_type": "stream",
     "text": [
      "   ulke  boy  kilo  yas cinsiyet\n",
      "0    tr  130    30   10        e\n",
      "1    tr  125    36   11        e\n",
      "2    tr  135    34   10        k\n",
      "3    tr  133    30    9        k\n",
      "4    tr  129    38   12        e\n",
      "5    tr  180    90   30        e\n",
      "6    tr  190    80   25        e\n",
      "7    tr  175    90   35        e\n",
      "8    tr  177    60   22        k\n",
      "9    us  185   105   33        e\n",
      "10   us  165    55   27        k\n",
      "11   us  155    50   44        k\n",
      "12   us  160    58   39        k\n",
      "13   us  162    59   41        k\n",
      "14   us  167    62   55        k\n",
      "15   fr  174    70   47        e\n",
      "16   fr  193    90   23        e\n",
      "17   fr  187    80   27        e\n",
      "18   fr  183    88   28        e\n",
      "19   fr  159    40   29        k\n",
      "20   fr  164    66   32        k\n",
      "21   fr  166    56   42        k\n",
      "<class 'pandas.core.frame.DataFrame'>\n"
     ]
    }
   ],
   "source": [
    "#Verinin içeri alınması\n",
    "veriler=pd.read_csv('veriler.csv')\n",
    "ulke=veriler[['ulke']]\n",
    "boy=veriler[['boy']]\n",
    "kilo=veriler[['kilo']]\n",
    "yas=veriler[['yas']]\n",
    "cinsiyet=veriler[['cinsiyet']]\n",
    "\n",
    "\n",
    "print(veriler)\n",
    "print(type(ulke))"
   ]
  },
  {
   "cell_type": "markdown",
   "id": "c3367c37",
   "metadata": {},
   "source": [
    "<b>Eksik Verilerin Tamamlanması</b>"
   ]
  },
  {
   "cell_type": "code",
   "execution_count": 4,
   "id": "a94e0346",
   "metadata": {},
   "outputs": [
    {
     "name": "stdout",
     "output_type": "stream",
     "text": [
      "[[130.    30.    10.  ]\n",
      " [125.    36.    11.  ]\n",
      " [135.    34.    10.  ]\n",
      " [133.    30.     9.  ]\n",
      " [129.    38.    12.  ]\n",
      " [180.    90.    30.  ]\n",
      " [190.    80.    25.  ]\n",
      " [175.    90.    35.  ]\n",
      " [177.    60.    22.  ]\n",
      " [185.   105.    33.  ]\n",
      " [165.    55.    27.  ]\n",
      " [155.    50.    44.  ]\n",
      " [160.    58.    28.45]\n",
      " [162.    59.    41.  ]\n",
      " [167.    62.    55.  ]\n",
      " [174.    70.    47.  ]\n",
      " [193.    90.    28.45]\n",
      " [187.    80.    27.  ]\n",
      " [183.    88.    28.  ]\n",
      " [159.    40.    29.  ]\n",
      " [164.    66.    32.  ]\n",
      " [166.    56.    42.  ]]\n"
     ]
    }
   ],
   "source": [
    "from sklearn.impute import SimpleImputer\n",
    "veriler=pd.read_csv('eksikveriler.csv')\n",
    "#print(eksikVeriler)\n",
    "\n",
    "\n",
    "imputer=SimpleImputer(missing_values=np.nan, strategy='mean')\n",
    "\n",
    "Yas=veriler.iloc[:,1:4].values\n",
    "#print(Yas)\n",
    "\n",
    "imputer=imputer.fit(Yas[:,1:4])\n",
    "Yas[:,1:4]=imputer.transform(Yas[:,1:4])\n",
    "\n",
    "print(Yas)"
   ]
  },
  {
   "cell_type": "markdown",
   "id": "521e4464",
   "metadata": {},
   "source": [
    "<b>Kategorik Verilerin Dönüşümü</b>"
   ]
  },
  {
   "cell_type": "code",
   "execution_count": 5,
   "id": "1d7d4c84",
   "metadata": {
    "scrolled": false
   },
   "outputs": [
    {
     "name": "stdout",
     "output_type": "stream",
     "text": [
      "     fr   tr   us    boy   kilo    yas cinsiyet\n",
      "0   0.0  1.0  0.0  130.0   30.0  10.00        e\n",
      "1   0.0  1.0  0.0  125.0   36.0  11.00        e\n",
      "2   0.0  1.0  0.0  135.0   34.0  10.00        k\n",
      "3   0.0  1.0  0.0  133.0   30.0   9.00        k\n",
      "4   0.0  1.0  0.0  129.0   38.0  12.00        e\n",
      "5   0.0  1.0  0.0  180.0   90.0  30.00        e\n",
      "6   0.0  1.0  0.0  190.0   80.0  25.00        e\n",
      "7   0.0  1.0  0.0  175.0   90.0  35.00        e\n",
      "8   0.0  1.0  0.0  177.0   60.0  22.00        k\n",
      "9   0.0  0.0  1.0  185.0  105.0  33.00        e\n",
      "10  0.0  0.0  1.0  165.0   55.0  27.00        k\n",
      "11  0.0  0.0  1.0  155.0   50.0  44.00        k\n",
      "12  0.0  0.0  1.0  160.0   58.0  28.45        k\n",
      "13  0.0  0.0  1.0  162.0   59.0  41.00        k\n",
      "14  0.0  0.0  1.0  167.0   62.0  55.00        k\n",
      "15  1.0  0.0  0.0  174.0   70.0  47.00        e\n",
      "16  1.0  0.0  0.0  193.0   90.0  28.45        e\n",
      "17  1.0  0.0  0.0  187.0   80.0  27.00        e\n",
      "18  1.0  0.0  0.0  183.0   88.0  28.00        e\n",
      "19  1.0  0.0  0.0  159.0   40.0  29.00        k\n",
      "20  1.0  0.0  0.0  164.0   66.0  32.00        k\n",
      "21  1.0  0.0  0.0  166.0   56.0  42.00        k\n"
     ]
    }
   ],
   "source": [
    "ulke=veriler.iloc[:,0:1].values\n",
    "cinsiyet=veriler.iloc[:,4:5].values\n",
    "#print(ulke)\n",
    "#print(cinsiyet)\n",
    "\n",
    "from sklearn import preprocessing\n",
    "le=preprocessing.LabelEncoder()\n",
    "ohe=preprocessing.OneHotEncoder()\n",
    "\n",
    "ulke[:,0]=le.fit_transform(veriler.iloc[:,0])\n",
    "#print(ulke)\n",
    "\n",
    "ulke=ohe.fit_transform(ulke).toarray()\n",
    "#print(ulke)\n",
    "\n",
    "cinsiyet[:,0]=le.fit_transform(veriler.iloc[:,4])\n",
    "#print(cinsiyet)\n",
    "cinsiyet=ohe.fit_transform(cinsiyet).toarray()\n",
    "#print(cinsiyet)\n",
    "\n",
    "sonuc=pd.DataFrame(data=ulke, index=range(22), columns=['fr', 'tr','us'])\n",
    "#print(sonuc)\n",
    "sonuc2=pd.DataFrame(data=Yas, index=range(22), columns=['boy', 'kilo', 'yas'])\n",
    "#print(sonuc2)\n",
    "cinsiyet=veriler.iloc[:,-1].values\n",
    "#print(cinsiyet)\n",
    "sonuc3=pd.DataFrame(data=cinsiyet, index=range(22), columns=['cinsiyet'])\n",
    "#print(sonuc3)\n",
    "\n",
    "s=pd.concat([sonuc, sonuc2], axis=1)\n",
    "#print(s)\n",
    "\n",
    "s2=pd.concat([s,sonuc3], axis=1)\n",
    "print(s2)"
   ]
  },
  {
   "cell_type": "markdown",
   "id": "d5821ced",
   "metadata": {},
   "source": [
    "<b>Öğrenme ve Test(Trainging and Test)</b>"
   ]
  },
  {
   "cell_type": "code",
   "execution_count": 13,
   "id": "b36db178",
   "metadata": {},
   "outputs": [
    {
     "name": "stdout",
     "output_type": "stream",
     "text": [
      "     fr   tr   us    boy   kilo    yas\n",
      "8   0.0  1.0  0.0  177.0   60.0  22.00\n",
      "6   0.0  1.0  0.0  190.0   80.0  25.00\n",
      "16  1.0  0.0  0.0  193.0   90.0  28.45\n",
      "4   0.0  1.0  0.0  129.0   38.0  12.00\n",
      "2   0.0  1.0  0.0  135.0   34.0  10.00\n",
      "5   0.0  1.0  0.0  180.0   90.0  30.00\n",
      "17  1.0  0.0  0.0  187.0   80.0  27.00\n",
      "9   0.0  0.0  1.0  185.0  105.0  33.00\n",
      "7   0.0  1.0  0.0  175.0   90.0  35.00\n",
      "18  1.0  0.0  0.0  183.0   88.0  28.00\n",
      "3   0.0  1.0  0.0  133.0   30.0   9.00\n",
      "0   0.0  1.0  0.0  130.0   30.0  10.00\n",
      "15  1.0  0.0  0.0  174.0   70.0  47.00\n",
      "12  0.0  0.0  1.0  160.0   58.0  28.45 \n",
      "      fr   tr   us    boy  kilo   yas\n",
      "20  1.0  0.0  0.0  164.0  66.0  32.0\n",
      "10  0.0  0.0  1.0  165.0  55.0  27.0\n",
      "14  0.0  0.0  1.0  167.0  62.0  55.0\n",
      "13  0.0  0.0  1.0  162.0  59.0  41.0\n",
      "1   0.0  1.0  0.0  125.0  36.0  11.0\n",
      "21  1.0  0.0  0.0  166.0  56.0  42.0\n",
      "11  0.0  0.0  1.0  155.0  50.0  44.0\n",
      "19  1.0  0.0  0.0  159.0  40.0  29.0\n"
     ]
    }
   ],
   "source": [
    "from sklearn.model_selection import train_test_split\n",
    "\n",
    "x_train, x_test, y_train, y_test=train_test_split(s, sonuc3, test_size=0.33, random_state=0)\n",
    "\n",
    "print(\"{} \\n {}\".format(x_train, x_test)) #birinci kolon öğrenme ve test görünümü yazdırma\n"
   ]
  },
  {
   "cell_type": "code",
   "execution_count": null,
   "id": "46159415",
   "metadata": {},
   "outputs": [],
   "source": []
  }
 ],
 "metadata": {
  "kernelspec": {
   "display_name": "Python 3",
   "language": "python",
   "name": "python3"
  },
  "language_info": {
   "codemirror_mode": {
    "name": "ipython",
    "version": 3
   },
   "file_extension": ".py",
   "mimetype": "text/x-python",
   "name": "python",
   "nbconvert_exporter": "python",
   "pygments_lexer": "ipython3",
   "version": "3.8.8"
  }
 },
 "nbformat": 4,
 "nbformat_minor": 5
}
